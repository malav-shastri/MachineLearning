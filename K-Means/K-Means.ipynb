{
 "cells": [
  {
   "cell_type": "code",
   "execution_count": 21,
   "metadata": {},
   "outputs": [],
   "source": [
    "import pandas as pd\n",
    "import numpy as np\n",
    "import matplotlib.pyplot as plt"
   ]
  },
  {
   "cell_type": "code",
   "execution_count": 22,
   "metadata": {},
   "outputs": [],
   "source": [
    "data = {'x':[5.9,4.6,6.2,4.7,5.5,5.0,4.9,5.1,6.0], 'y':[3.2,2.9,2.8,3.2,4.2,3.0,3.1,3.8,3.0]}"
   ]
  },
  {
   "cell_type": "code",
   "execution_count": 23,
   "metadata": {},
   "outputs": [
    {
     "data": {
      "text/html": [
       "<div>\n",
       "<style scoped>\n",
       "    .dataframe tbody tr th:only-of-type {\n",
       "        vertical-align: middle;\n",
       "    }\n",
       "\n",
       "    .dataframe tbody tr th {\n",
       "        vertical-align: top;\n",
       "    }\n",
       "\n",
       "    .dataframe thead th {\n",
       "        text-align: right;\n",
       "    }\n",
       "</style>\n",
       "<table border=\"1\" class=\"dataframe\">\n",
       "  <thead>\n",
       "    <tr style=\"text-align: right;\">\n",
       "      <th></th>\n",
       "      <th>Cluster</th>\n",
       "    </tr>\n",
       "  </thead>\n",
       "  <tbody>\n",
       "    <tr>\n",
       "      <td>P1</td>\n",
       "      <td>0</td>\n",
       "    </tr>\n",
       "    <tr>\n",
       "      <td>P2</td>\n",
       "      <td>0</td>\n",
       "    </tr>\n",
       "    <tr>\n",
       "      <td>P3</td>\n",
       "      <td>0</td>\n",
       "    </tr>\n",
       "    <tr>\n",
       "      <td>P4</td>\n",
       "      <td>0</td>\n",
       "    </tr>\n",
       "    <tr>\n",
       "      <td>P5</td>\n",
       "      <td>0</td>\n",
       "    </tr>\n",
       "    <tr>\n",
       "      <td>P6</td>\n",
       "      <td>0</td>\n",
       "    </tr>\n",
       "    <tr>\n",
       "      <td>P7</td>\n",
       "      <td>0</td>\n",
       "    </tr>\n",
       "    <tr>\n",
       "      <td>P8</td>\n",
       "      <td>0</td>\n",
       "    </tr>\n",
       "    <tr>\n",
       "      <td>P9</td>\n",
       "      <td>0</td>\n",
       "    </tr>\n",
       "  </tbody>\n",
       "</table>\n",
       "</div>"
      ],
      "text/plain": [
       "    Cluster\n",
       "P1        0\n",
       "P2        0\n",
       "P3        0\n",
       "P4        0\n",
       "P5        0\n",
       "P6        0\n",
       "P7        0\n",
       "P8        0\n",
       "P9        0"
      ]
     },
     "execution_count": 23,
     "metadata": {},
     "output_type": "execute_result"
    }
   ],
   "source": [
    "data = pd.DataFrame(data, index=['P1','P2','P3','P4','P5','P6','P7','P8','P9'])\n",
    "data['Cluster'] = 0\n",
    "data[['Cluster']]\n"
   ]
  },
  {
   "cell_type": "markdown",
   "metadata": {},
   "source": [
    "Creating mean data frame"
   ]
  },
  {
   "cell_type": "code",
   "execution_count": 24,
   "metadata": {},
   "outputs": [
    {
     "data": {
      "text/html": [
       "<div>\n",
       "<style scoped>\n",
       "    .dataframe tbody tr th:only-of-type {\n",
       "        vertical-align: middle;\n",
       "    }\n",
       "\n",
       "    .dataframe tbody tr th {\n",
       "        vertical-align: top;\n",
       "    }\n",
       "\n",
       "    .dataframe thead th {\n",
       "        text-align: right;\n",
       "    }\n",
       "</style>\n",
       "<table border=\"1\" class=\"dataframe\">\n",
       "  <thead>\n",
       "    <tr style=\"text-align: right;\">\n",
       "      <th></th>\n",
       "      <th>x</th>\n",
       "      <th>y</th>\n",
       "    </tr>\n",
       "  </thead>\n",
       "  <tbody>\n",
       "    <tr>\n",
       "      <td>mean 1</td>\n",
       "      <td>6.2</td>\n",
       "      <td>3.2</td>\n",
       "    </tr>\n",
       "    <tr>\n",
       "      <td>mean 2</td>\n",
       "      <td>6.6</td>\n",
       "      <td>3.7</td>\n",
       "    </tr>\n",
       "    <tr>\n",
       "      <td>mean 3</td>\n",
       "      <td>6.5</td>\n",
       "      <td>3.0</td>\n",
       "    </tr>\n",
       "  </tbody>\n",
       "</table>\n",
       "</div>"
      ],
      "text/plain": [
       "          x    y\n",
       "mean 1  6.2  3.2\n",
       "mean 2  6.6  3.7\n",
       "mean 3  6.5  3.0"
      ]
     },
     "execution_count": 24,
     "metadata": {},
     "output_type": "execute_result"
    }
   ],
   "source": [
    "mean_data = {'x':[6.2,6.6,6.5],'y':[3.2,3.7,3.0]}\n",
    "mean_data = pd.DataFrame(mean_data, index=['mean 1','mean 2','mean 3'])\n",
    "mean_data"
   ]
  },
  {
   "cell_type": "markdown",
   "metadata": {},
   "source": [
    "## Ploting the data ##"
   ]
  },
  {
   "cell_type": "code",
   "execution_count": 25,
   "metadata": {},
   "outputs": [
    {
     "data": {
      "image/png": "[encoded data removed]",
      "text/plain": [
       "<Figure size 432x288 with 1 Axes>"
      ]
     },
     "metadata": {
      "needs_background": "light"
     },
     "output_type": "display_data"
    }
   ],
   "source": [
    "plt.scatter(data['x'], data['y'], color= \"black\", s=40) \n",
    "\n",
    "plt.scatter(mean_data.loc['mean 1','x'], mean_data.loc['mean 1','y'], c='red',s=60)\n",
    "plt.scatter(mean_data.loc['mean 2', 'x'], mean_data.loc['mean 2', 'y'], c='green',s=60)\n",
    "plt.scatter(mean_data.loc['mean 3','x'], mean_data.loc['mean 3', 'y'], c='blue',s=60)\n",
    "plt.xlabel('x - axis') \n",
    "plt.ylabel('y - axis') \n",
    " \n",
    "plt.title('Points on Plane!') \n",
    "  \n",
    "# function to show the plot \n",
    "plt.show()"
   ]
  },
  {
   "cell_type": "markdown",
   "metadata": {},
   "source": [
    "## Learning Algorithm and Printing final mean and iterations. ##"
   ]
  },
  {
   "cell_type": "code",
   "execution_count": 26,
   "metadata": {},
   "outputs": [
    {
     "name": "stdout",
     "output_type": "stream",
     "text": [
      "Result After First Iteration\n",
      "               x         y\n",
      "mean 1  5.171429  3.171429\n",
      "mean 2  5.500000  4.200000\n",
      "mean 3  6.200000  2.800000\n",
      "Result After second Iteration\n",
      "               x     y\n",
      "mean 1  4.800000  3.05\n",
      "mean 2  5.300000  4.00\n",
      "mean 3  6.033333  3.00\n",
      "Result After Convergence\n",
      "               x     y\n",
      "mean 1  4.800000  3.05\n",
      "mean 2  5.300000  4.00\n",
      "mean 3  6.033333  3.00\n",
      "Number of iteration before convergence\n",
      "2\n",
      "      x    y  Cluster  dis_from_m1  dis_from_m2  dis_from_m3   min_dis\n",
      "P1  5.9  3.2        3     1.110180     1.000000     0.240370  0.240370\n",
      "P2  4.6  2.9        1     0.250000     1.303840     1.436817  0.250000\n",
      "P3  6.2  2.8        3     1.422146     1.500000     0.260342  0.260342\n",
      "P4  4.7  3.2        1     0.180278     1.000000     1.348250  0.180278\n",
      "P5  5.5  4.2        2     1.346291     0.282843     1.313181  0.282843\n",
      "P6  5.0  3.0        1     0.206155     1.044031     1.033333  0.206155\n",
      "P7  4.9  3.1        1     0.111803     0.984886     1.137737  0.111803\n",
      "P8  5.1  3.8        2     0.807775     0.282843     1.229273  0.282843\n",
      "P9  6.0  3.0        3     1.201041     1.220656     0.033333  0.033333\n"
     ]
    }
   ],
   "source": [
    "Y = data[['Cluster']]\n",
    "i = 0\n",
    "while(True):\n",
    "    data['dis_from_m1'] =  np.sqrt((data.loc[:,'x']-mean_data.loc['mean 1','x'])**2 + (data.loc[:,'y']-mean_data.loc['mean 1','y'])**2) \n",
    "    \n",
    "    data['dis_from_m2'] =  np.sqrt((data.loc[:,'x']-mean_data.loc['mean 2','x'])**2 + (data.loc[:,'y']-mean_data.loc['mean 2','y'])**2) \n",
    "    \n",
    "    data['dis_from_m3'] =  np.sqrt((data.loc[:,'x']-mean_data.loc['mean 3', 'x'])**2 + (data.loc[:,'y']-mean_data.loc['mean 3','y'])**2) \n",
    "    \n",
    "    data['min_dis'] = np.amin(data.loc[:,['dis_from_m1','dis_from_m2','dis_from_m3']], axis=1) \n",
    "    \n",
    "    label1_after = data['min_dis'] == data['dis_from_m1']\n",
    "    \n",
    "    label2_after = data['min_dis'] == data['dis_from_m2']\n",
    "    \n",
    "    label3_after = data['min_dis'] == data['dis_from_m3']\n",
    "    \n",
    "    data.at[label2_after,'Cluster'] = 2\n",
    "    \n",
    "    data.at[label3_after,'Cluster'] = 3\n",
    "    \n",
    "    data.at[label1_after,'Cluster'] = 1\n",
    "        \n",
    "    mean_data.loc['mean 1'] = np.mean(data.loc[data['Cluster']==1,['x','y']],axis=0)\n",
    "    #print(mean_data.loc['mean 1'])\n",
    "    \n",
    "    mean_data.loc['mean 2'] = np.mean(data.loc[data['Cluster']==2,['x','y']],axis=0)\n",
    "    #print(mean_data.loc['mean 2'])\n",
    "    \n",
    "    mean_data.loc['mean 3'] = np.mean(data.loc[data['Cluster']==3,['x','y']],axis=0)\n",
    "    #print(mean_data.loc['mean 2'])\n",
    "    \n",
    "    if(i==0):\n",
    "        print(\"Result After First Iteration\")\n",
    "        print(mean_data)\n",
    "    if(i==1):\n",
    "        print(\"Result After second Iteration\")\n",
    "        print(mean_data)\n",
    "    \n",
    "    #l = str(list(data['Cluster']))\n",
    "    \n",
    "    if data[['Cluster']].equals(Y):\n",
    "        break\n",
    "        \n",
    "    Y = data[['Cluster']]\n",
    "    \n",
    "    i = i+1\n",
    "print(\"Result After Convergence\")\n",
    "print(mean_data)\n",
    "print(\"Number of iteration before convergence\")\n",
    "print(i)"
   ]
  },
  {
   "cell_type": "markdown",
   "metadata": {},
   "source": [
    "## Final Plot ##"
   ]
  },
  {
   "cell_type": "code",
   "execution_count": 27,
   "metadata": {},
   "outputs": [
    {
     "data": {
      "image/png": "[encoded data removed]",
      "text/plain": [
       "<Figure size 432x288 with 1 Axes>"
      ]
     },
     "metadata": {
      "needs_background": "light"
     },
     "output_type": "display_data"
    }
   ],
   "source": [
    "#Plotting the data\n",
    "plt.scatter(data['x'], data['y'], color= \"black\", s=40) \n",
    "\n",
    "plt.scatter(mean_data.loc['mean 1','x'], mean_data.loc['mean 1','y'], c='red',s=60)\n",
    "plt.scatter(mean_data.loc['mean 2', 'x'], mean_data.loc['mean 2', 'y'], c='green',s=60)\n",
    "plt.scatter(mean_data.loc['mean 3','x'], mean_data.loc['mean 3', 'y'], c='blue',s=60)\n",
    "plt.xlabel('x - axis') \n",
    "plt.ylabel('y - axis') \n",
    " \n",
    "plt.title('Points on Plane!') \n",
    "  \n",
    "# function to show the plot \n",
    "plt.show()"
   ]
  },
  {
   "cell_type": "code",
   "execution_count": null,
   "metadata": {},
   "outputs": [],
   "source": []
  }
 ],
 "metadata": {
  "kernelspec": {
   "display_name": "Python 3",
   "language": "python",
   "name": "python3"
  },
  "language_info": {
   "codemirror_mode": {
    "name": "ipython",
    "version": 3
   },
   "file_extension": ".py",
   "mimetype": "text/x-python",
   "name": "python",
   "nbconvert_exporter": "python",
   "pygments_lexer": "ipython3",
   "version": "3.7.4"
  }
 },
 "nbformat": 4,
 "nbformat_minor": 2
}
